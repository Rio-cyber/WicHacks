{
 "cells": [
  {
   "cell_type": "code",
   "execution_count": 1,
   "metadata": {},
   "outputs": [],
   "source": [
    "import pandas as pd\n",
    "from googletrans import Translator"
   ]
  },
  {
   "cell_type": "code",
   "execution_count": 3,
   "metadata": {},
   "outputs": [
    {
     "name": "stdout",
     "output_type": "stream",
     "text": [
      "  Vegetable Names\n",
      "0            गाजर\n",
      "1     शिमला मिर्च\n",
      "2          भिन्डी\n",
      "3           मक्का\n",
      "4       लाल मिर्च\n",
      "5            खीरा\n",
      "6       कढ़ी पत्ता\n",
      "7            बैगन\n",
      "8           लहसुन\n",
      "9            अदरक\n"
     ]
    }
   ],
   "source": [
    "data = pd.read_csv(\"C:/Users/Rhea/Desktop/hindi.csv\")\n",
    "print(data)"
   ]
  },
  {
   "cell_type": "code",
   "execution_count": 4,
   "metadata": {},
   "outputs": [
    {
     "name": "stdout",
     "output_type": "stream",
     "text": [
      "('गाजर', 'Carrots')\n",
      "('शिमला मिर्च', 'capsicum')\n",
      "('भिन्डी', 'Lady finger')\n",
      "('मक्का', 'Corn')\n",
      "('लाल मिर्च', 'Red chilli')\n",
      "('खीरा', 'Cucumber')\n",
      "('कढ़ी पत्ता', 'Curry leaves')\n",
      "('बैगन', 'Brinjal')\n",
      "('लहसुन', 'Garlic')\n",
      "('अदरक', 'ginger')\n"
     ]
    }
   ],
   "source": [
    "translator = Translator()\n",
    "translations = {}\n",
    "for column in data.columns:\n",
    "    unique = data[column].unique()\n",
    "    for element in unique:\n",
    "        translations[element] = translator.translate(element).text\n",
    "for i in translations.items():\n",
    "    print(i)"
   ]
  },
  {
   "cell_type": "code",
   "execution_count": 5,
   "metadata": {},
   "outputs": [
    {
     "name": "stdout",
     "output_type": "stream",
     "text": [
      "  Vegetable Names\n",
      "0         Carrots\n",
      "1        capsicum\n",
      "2     Lady finger\n",
      "3            Corn\n",
      "4      Red chilli\n",
      "5        Cucumber\n",
      "6    Curry leaves\n",
      "7         Brinjal\n",
      "8          Garlic\n",
      "9          ginger\n"
     ]
    }
   ],
   "source": [
    "data.replace(translations, inplace=True)\n",
    "print(data)"
   ]
  },
  {
   "cell_type": "code",
   "execution_count": null,
   "metadata": {},
   "outputs": [],
   "source": []
  }
 ],
 "metadata": {
  "kernelspec": {
   "display_name": "Python 3",
   "language": "python",
   "name": "python3"
  },
  "language_info": {
   "codemirror_mode": {
    "name": "ipython",
    "version": 3
   },
   "file_extension": ".py",
   "mimetype": "text/x-python",
   "name": "python",
   "nbconvert_exporter": "python",
   "pygments_lexer": "ipython3",
   "version": "3.7.4"
  }
 },
 "nbformat": 4,
 "nbformat_minor": 2
}
